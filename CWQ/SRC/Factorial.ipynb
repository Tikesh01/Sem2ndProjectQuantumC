{
 "cells": [
  {
   "cell_type": "code",
   "execution_count": null,
   "metadata": {},
   "outputs": [],
   "source": [
    "from qiskit import QuantumCircuit, Aer, transpile, assemble, execute\n",
    "from qiskit.visualization import plot_histogram\n",
    "\n",
    "def factorial_qiskit(n):\n",
    "    \"\"\"Calculates factorial using Qiskit (Simulated Classical Computation).\"\"\"\n",
    "    \n",
    "    # Create a quantum circuit with n qubits and classical bits\n",
    "    qc = QuantumCircuit(n, n)\n",
    "    \n",
    "    # Apply NOT gates to prepare initial states\n",
    "    for i in range(n):\n",
    "        qc.x(i)\n",
    "    \n",
    "    # Multiply values using controlled gates (emulating multiplication)\n",
    "    # This step is symbolic, as Qiskit does not support direct multiplication\n",
    "    qc.barrier()\n",
    "\n",
    "    # Measure the qubits\n",
    "    qc.measure(range(n), range(n))\n",
    "\n",
    "    # Run on Qiskit simulator\n",
    "    simulator = Aer.get_backend('qasm_simulator')\n",
    "    compiled_circuit = transpile(qc, simulator)\n",
    "    qobj = assemble(compiled_circuit)\n",
    "    result = simulator.run(qobj).result()\n",
    "    \n",
    "    # Get the result counts\n",
    "    counts = result.get_counts(qc)\n",
    "    \n",
    "    # Classical factorial calculation\n",
    "    fact = 1\n",
    "    for i in range(1, n + 1):\n",
    "        fact *= i\n",
    "    \n",
    "    return fact, counts\n",
    "\n",
    "# Example: Compute 4! (4 factorial)\n",
    "n = 4\n",
    "factorial_result, quantum_counts = factorial_qiskit(n)\n",
    "\n",
    "print(f\"Factorial of {n} is {factorial_result}\")\n",
    "print(\"Quantum Counts:\", quantum_counts)"
   ]
  },
  {
   "cell_type": "code",
   "execution_count": 23,
   "metadata": {},
   "outputs": [
    {
     "name": "stdout",
     "output_type": "stream",
     "text": [
      "Using backend: ibm_brisbane\n"
     ]
    },
    {
     "ename": "ValueError",
     "evalue": "A backend or session must be specified.",
     "output_type": "error",
     "traceback": [
      "\u001b[31m---------------------------------------------------------------------------\u001b[39m",
      "\u001b[31mValueError\u001b[39m                                Traceback (most recent call last)",
      "\u001b[36mCell\u001b[39m\u001b[36m \u001b[39m\u001b[32mIn[23]\u001b[39m\u001b[32m, line 40\u001b[39m\n\u001b[32m     38\u001b[39m \u001b[38;5;66;03m# Example: Compute 4!\u001b[39;00m\n\u001b[32m     39\u001b[39m n = \u001b[32m4\u001b[39m\n\u001b[32m---> \u001b[39m\u001b[32m40\u001b[39m fact, quantum_counts = \u001b[43mfactorial_qiskit_runtime\u001b[49m\u001b[43m(\u001b[49m\u001b[43mn\u001b[49m\u001b[43m)\u001b[49m\n\u001b[32m     42\u001b[39m \u001b[38;5;28mprint\u001b[39m(\u001b[33mf\u001b[39m\u001b[33m\"\u001b[39m\u001b[33mFactorial of \u001b[39m\u001b[38;5;132;01m{\u001b[39;00mn\u001b[38;5;132;01m}\u001b[39;00m\u001b[33m is \u001b[39m\u001b[38;5;132;01m{\u001b[39;00mfact\u001b[38;5;132;01m}\u001b[39;00m\u001b[33m\"\u001b[39m)\n\u001b[32m     43\u001b[39m \u001b[38;5;28mprint\u001b[39m(\u001b[33m\"\u001b[39m\u001b[33mQuantum Counts:\u001b[39m\u001b[33m\"\u001b[39m, quantum_counts)\n",
      "\u001b[36mCell\u001b[39m\u001b[36m \u001b[39m\u001b[32mIn[23]\u001b[39m\u001b[32m, line 24\u001b[39m, in \u001b[36mfactorial_qiskit_runtime\u001b[39m\u001b[34m(n)\u001b[39m\n\u001b[32m     21\u001b[39m qc.measure(\u001b[38;5;28mrange\u001b[39m(n), \u001b[38;5;28mrange\u001b[39m(n))  \u001b[38;5;66;03m# Measure all qubits\u001b[39;00m\n\u001b[32m     23\u001b[39m \u001b[38;5;66;03m# Run using Qiskit Runtime Sampler without a session\u001b[39;00m\n\u001b[32m---> \u001b[39m\u001b[32m24\u001b[39m sampler = \u001b[43mSampler\u001b[49m\u001b[43m(\u001b[49m\u001b[43m)\u001b[49m  \u001b[38;5;66;03m# Removed the backend parameter\u001b[39;00m\n\u001b[32m     25\u001b[39m job = sampler.run(qc, backend=backend)  \u001b[38;5;66;03m# Pass backend during run\u001b[39;00m\n\u001b[32m     26\u001b[39m result = job.result()\n",
      "\u001b[36mFile \u001b[39m\u001b[32mc:\\Users\\tikes\\AppData\\Local\\Programs\\Python\\Python312\\Lib\\site-packages\\qiskit_ibm_runtime\\sampler.py:86\u001b[39m, in \u001b[36mSamplerV2.__init__\u001b[39m\u001b[34m(self, mode, options)\u001b[39m\n\u001b[32m     83\u001b[39m BaseSamplerV2.\u001b[34m__init__\u001b[39m(\u001b[38;5;28mself\u001b[39m)\n\u001b[32m     84\u001b[39m Sampler.\u001b[34m__init__\u001b[39m(\u001b[38;5;28mself\u001b[39m)\n\u001b[32m---> \u001b[39m\u001b[32m86\u001b[39m \u001b[43mBasePrimitiveV2\u001b[49m\u001b[43m.\u001b[49m\u001b[34;43m__init__\u001b[39;49m\u001b[43m(\u001b[49m\u001b[38;5;28;43mself\u001b[39;49m\u001b[43m,\u001b[49m\u001b[43m \u001b[49m\u001b[43mmode\u001b[49m\u001b[43m=\u001b[49m\u001b[43mmode\u001b[49m\u001b[43m,\u001b[49m\u001b[43m \u001b[49m\u001b[43moptions\u001b[49m\u001b[43m=\u001b[49m\u001b[43moptions\u001b[49m\u001b[43m)\u001b[49m\n",
      "\u001b[36mFile \u001b[39m\u001b[32mc:\\Users\\tikes\\AppData\\Local\\Programs\\Python\\Python312\\Lib\\site-packages\\qiskit_ibm_runtime\\base_primitive.py:134\u001b[39m, in \u001b[36mBasePrimitiveV2.__init__\u001b[39m\u001b[34m(self, mode, options)\u001b[39m\n\u001b[32m    113\u001b[39m \u001b[38;5;28;01mdef\u001b[39;00m\u001b[38;5;250m \u001b[39m\u001b[34m__init__\u001b[39m(\n\u001b[32m    114\u001b[39m     \u001b[38;5;28mself\u001b[39m,\n\u001b[32m    115\u001b[39m     mode: Optional[Union[BackendV1, BackendV2, Session, Batch, \u001b[38;5;28mstr\u001b[39m]] = \u001b[38;5;28;01mNone\u001b[39;00m,\n\u001b[32m    116\u001b[39m     options: Optional[Union[Dict, OptionsT]] = \u001b[38;5;28;01mNone\u001b[39;00m,\n\u001b[32m    117\u001b[39m ):\n\u001b[32m    118\u001b[39m \u001b[38;5;250m    \u001b[39m\u001b[33;03m\"\"\"Initializes the primitive.\u001b[39;00m\n\u001b[32m    119\u001b[39m \n\u001b[32m    120\u001b[39m \u001b[33;03m    Args:\u001b[39;00m\n\u001b[32m   (...)\u001b[39m\u001b[32m    132\u001b[39m \u001b[33;03m        ValueError: Invalid arguments are given.\u001b[39;00m\n\u001b[32m    133\u001b[39m \u001b[33;03m    \"\"\"\u001b[39;00m\n\u001b[32m--> \u001b[39m\u001b[32m134\u001b[39m     \u001b[38;5;28mself\u001b[39m._mode, \u001b[38;5;28mself\u001b[39m._service, \u001b[38;5;28mself\u001b[39m._backend = \u001b[43m_get_mode_service_backend\u001b[49m\u001b[43m(\u001b[49m\u001b[43mmode\u001b[49m\u001b[43m)\u001b[49m\n\u001b[32m    135\u001b[39m     \u001b[38;5;28mself\u001b[39m._set_options(options)\n",
      "\u001b[36mFile \u001b[39m\u001b[32mc:\\Users\\tikes\\AppData\\Local\\Programs\\Python\\Python312\\Lib\\site-packages\\qiskit_ibm_runtime\\base_primitive.py:104\u001b[39m, in \u001b[36m_get_mode_service_backend\u001b[39m\u001b[34m(mode)\u001b[39m\n\u001b[32m    102\u001b[39m     \u001b[38;5;28;01mreturn\u001b[39;00m mode, service, backend  \u001b[38;5;66;03m# type: ignore\u001b[39;00m\n\u001b[32m    103\u001b[39m \u001b[38;5;28;01melse\u001b[39;00m:\n\u001b[32m--> \u001b[39m\u001b[32m104\u001b[39m     \u001b[38;5;28;01mraise\u001b[39;00m \u001b[38;5;167;01mValueError\u001b[39;00m(\u001b[33m\"\u001b[39m\u001b[33mA backend or session must be specified.\u001b[39m\u001b[33m\"\u001b[39m)\n",
      "\u001b[31mValueError\u001b[39m: A backend or session must be specified."
     ]
    }
   ],
   "source": [
    "from qiskit import QuantumCircuit\n",
    "from qiskit_ibm_runtime import QiskitRuntimeService, Sampler, Session\n",
    "\n",
    "# Load IBM Quantum Service\n",
    "service = QiskitRuntimeService()\n",
    "\n",
    "# Select an IBM backend\n",
    "backend = service.backend(\"ibm_brisbane\")\n",
    "\n",
    "print(f\"Using backend: {backend.name}\")\n",
    "\n",
    "def factorial_qiskit_runtime(n):\n",
    "    \"\"\"Quantum approach to factorial using Qiskit Runtime.\"\"\"\n",
    "    # Create a quantum circuit with n qubits and classical bits\n",
    "    qc = QuantumCircuit(n, n)\n",
    "\n",
    "    # Apply Hadamard gates to create superposition\n",
    "    for i in range(n):\n",
    "        qc.h(i)\n",
    "\n",
    "    qc.measure(range(n), range(n))  # Measure all qubits\n",
    "\n",
    "    # Run using Qiskit Runtime Sampler without a session\n",
    "    sampler = Sampler()  # Removed the backend parameter\n",
    "    job = sampler.run(qc, backend=backend)  # Pass backend during run\n",
    "    result = job.result()\n",
    "\n",
    "    # Get probabilities of different quantum states\n",
    "    counts = result.quasi_dists[0]\n",
    "\n",
    "    # Classical factorial calculation\n",
    "    fact = 1\n",
    "    for i in range(1, n + 1):\n",
    "        fact *= i\n",
    "\n",
    "    return fact, counts\n",
    "\n",
    "# Example: Compute 4!\n",
    "n = 4\n",
    "fact, quantum_counts = factorial_qiskit_runtime(n)\n",
    "\n",
    "print(f\"Factorial of {n} is {fact}\")\n",
    "print(\"Quantum Counts:\", quantum_counts)"
   ]
  }
 ],
 "metadata": {
  "kernelspec": {
   "display_name": "Python 3",
   "language": "python",
   "name": "python3"
  },
  "language_info": {
   "codemirror_mode": {
    "name": "ipython",
    "version": 3
   },
   "file_extension": ".py",
   "mimetype": "text/x-python",
   "name": "python",
   "nbconvert_exporter": "python",
   "pygments_lexer": "ipython3",
   "version": "3.12.8"
  }
 },
 "nbformat": 4,
 "nbformat_minor": 2
}
